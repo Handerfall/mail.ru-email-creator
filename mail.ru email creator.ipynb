{
 "cells": [
  {
   "cell_type": "code",
   "execution_count": 1,
   "metadata": {},
   "outputs": [],
   "source": [
    "from selenium import webdriver\n",
    "import time\n",
    "import keyboard #keying in characters"
   ]
  },
  {
   "cell_type": "code",
   "execution_count": 2,
   "metadata": {},
   "outputs": [],
   "source": [
    "for i in range(1):\n",
    "    driver = webdriver.Chrome('/Users/shahsuvarli/Downloads/chromedriver')\n",
    "    driver.get('https://account.mail.ru/signup?from=main&rf=auth.mail.ru')\n",
    "    driver.find_element_by_id('fname').send_keys('test')\n",
    "    driver.find_element_by_id('lname').send_keys('test')\n",
    "    driver.find_element_by_xpath(\"//div[@data-test-id='birth-date__day']\").click()\n",
    "    keyboard.write('\\n')\n",
    "    driver.find_element_by_xpath(\"//div[@data-test-id='birth-date__month']\").click()\n",
    "    keyboard.write('\\n')\n",
    "    driver.find_element_by_xpath(\"//div[@data-test-id='birth-date__year']\").click()\n",
    "    keyboard.write('\\n')\n",
    "    driver.find_element_by_class_name(\"c0196\").click()\n",
    "    driver.find_element_by_id(\"aaa__input\").send_keys('testfuckingtest1')\n",
    "    #driver.find_element_by_xpath(\"//div[@data-test-id='account__select']\").click()\n",
    "    driver.find_element_by_id('password').send_keys('djb@#%jec2378')\n",
    "    driver.find_element_by_id('repeatPassword').send_keys('djb@#%jec2378')\n",
    "    #time.sleep(2)\n",
    "    driver.find_element_by_xpath(\"/html/body/div[1]/div[3]/div[2]/div/div/form/button/span\").click()\n",
    "    #keyboard.write('\\n')\n",
    "    #driver.quit()"
   ]
  },
  {
   "cell_type": "code",
   "execution_count": null,
   "metadata": {},
   "outputs": [],
   "source": []
  }
 ],
 "metadata": {
  "kernelspec": {
   "display_name": "Python 3",
   "language": "python",
   "name": "python3"
  },
  "language_info": {
   "codemirror_mode": {
    "name": "ipython",
    "version": 3
   },
   "file_extension": ".py",
   "mimetype": "text/x-python",
   "name": "python",
   "nbconvert_exporter": "python",
   "pygments_lexer": "ipython3",
   "version": "3.7.4"
  }
 },
 "nbformat": 4,
 "nbformat_minor": 2
}
